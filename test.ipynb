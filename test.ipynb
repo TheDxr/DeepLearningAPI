{
 "cells": [
  {
   "cell_type": "code",
   "execution_count": 1,
   "metadata": {
    "collapsed": true
   },
   "outputs": [],
   "source": [
    "from inference_service import InferenceService\n",
    "import pickle"
   ]
  },
  {
   "cell_type": "code",
   "execution_count": 2,
   "outputs": [],
   "source": [
    "predict = {\n",
    "    \"data\": {\n",
    "        \"HighBP\": 1,\n",
    "        \"HighChol\": 1,\n",
    "        \"CholCheck\": 1,\n",
    "        \"BMI\": 30,\n",
    "        \"Smoker\": 1,\n",
    "        \"Stroke\": 1,\n",
    "        \"HeartDiseaseorAttack\": 1,\n",
    "        \"PhysActivity\": 1,\n",
    "        \"Fruits\": 0,\n",
    "        \"Veggies\": 0,\n",
    "        \"HvyAlcoholConsump\": 0,\n",
    "        \"AnyHealthcare\": 1,\n",
    "        \"NoDocbcCost\": 0,\n",
    "        \"GenHlth\": 4,\n",
    "        \"MentHlth\": 0,\n",
    "        \"PhysHlth\": 20,\n",
    "        \"DiffWalk\": 1,\n",
    "        \"Sex\": 1,\n",
    "        \"Age\": 68,\n",
    "        \"Education\": 3,\n",
    "        \"Income\": 1\n",
    "    }\n",
    "}\n",
    "train = {\n",
    "    \"dataset\": \"diabetes_binary_health_indicators_BRFSS2015.csv\",\n",
    "    \"parameter\": {\n",
    "        \"predict\": \"Diabetes_binary\"\n",
    "    }\n",
    "}"
   ],
   "metadata": {
    "collapsed": false
   }
  },
  {
   "cell_type": "code",
   "execution_count": 5,
   "outputs": [],
   "source": [
    "inference = InferenceService().INSTANCE"
   ],
   "metadata": {
    "collapsed": false
   }
  },
  {
   "cell_type": "code",
   "execution_count": null,
   "outputs": [],
   "source": [
    "inference.train_model('xgboost', train['parameter'])"
   ],
   "metadata": {
    "collapsed": false
   }
  },
  {
   "cell_type": "code",
   "execution_count": 14,
   "outputs": [],
   "source": [
    "inference.save_current_model('./saves/test.model')"
   ],
   "metadata": {
    "collapsed": false
   }
  },
  {
   "cell_type": "code",
   "execution_count": 9,
   "outputs": [
    {
     "data": {
      "text/plain": "{'prediction': 'false', 'precision': 0.8613607694733523}"
     },
     "execution_count": 9,
     "metadata": {},
     "output_type": "execute_result"
    }
   ],
   "source": [
    "inference.get_prediction(predict)"
   ],
   "metadata": {
    "collapsed": false
   }
  },
  {
   "cell_type": "code",
   "execution_count": 8,
   "outputs": [
    {
     "data": {
      "text/plain": "{'prediction': 'false', 'precision': 0.8613607694733523}"
     },
     "execution_count": 8,
     "metadata": {},
     "output_type": "execute_result"
    }
   ],
   "source": [
    "inference.get_prediction_from_saved_model(predict)"
   ],
   "metadata": {
    "collapsed": false
   }
  }
 ],
 "metadata": {
  "kernelspec": {
   "display_name": "Python 3",
   "language": "python",
   "name": "python3"
  },
  "language_info": {
   "codemirror_mode": {
    "name": "ipython",
    "version": 2
   },
   "file_extension": ".py",
   "mimetype": "text/x-python",
   "name": "python",
   "nbconvert_exporter": "python",
   "pygments_lexer": "ipython2",
   "version": "2.7.6"
  }
 },
 "nbformat": 4,
 "nbformat_minor": 0
}
