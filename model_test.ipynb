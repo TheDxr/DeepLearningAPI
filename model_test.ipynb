{
 "cells": [
  {
   "cell_type": "code",
   "execution_count": 1,
   "metadata": {
    "collapsed": true
   },
   "outputs": [
    {
     "ename": "AttributeError",
     "evalue": "module 'models' has no attribute 'XGBoost'",
     "output_type": "error",
     "traceback": [
      "\u001B[1;31m---------------------------------------------------------------------------\u001B[0m",
      "\u001B[1;31mAttributeError\u001B[0m                            Traceback (most recent call last)",
      "\u001B[1;32m~\\AppData\\Local\\Temp/ipykernel_2460/3967935520.py\u001B[0m in \u001B[0;36m<module>\u001B[1;34m\u001B[0m\n\u001B[1;32m----> 1\u001B[1;33m \u001B[1;32mfrom\u001B[0m \u001B[0mmodels\u001B[0m \u001B[1;32mimport\u001B[0m \u001B[1;33m*\u001B[0m\u001B[1;33m\u001B[0m\u001B[1;33m\u001B[0m\u001B[0m\n\u001B[0m\u001B[0;32m      2\u001B[0m \u001B[1;32mfrom\u001B[0m \u001B[0mmodels\u001B[0m \u001B[1;32mimport\u001B[0m \u001B[0msgd\u001B[0m\u001B[1;33m\u001B[0m\u001B[1;33m\u001B[0m\u001B[0m\n\u001B[0;32m      3\u001B[0m \u001B[1;33m\u001B[0m\u001B[0m\n\u001B[0;32m      4\u001B[0m \u001B[1;32mimport\u001B[0m \u001B[0mconfig\u001B[0m\u001B[1;33m\u001B[0m\u001B[1;33m\u001B[0m\u001B[0m\n",
      "\u001B[1;31mAttributeError\u001B[0m: module 'models' has no attribute 'XGBoost'"
     ]
    }
   ],
   "source": [
    "from models import *\n",
    "from models import sgd\n",
    "\n",
    "import config"
   ]
  },
  {
   "cell_type": "code",
   "execution_count": 9,
   "outputs": [
    {
     "name": "stdout",
     "output_type": "stream",
     "text": [
      "{'_generate_next_value_': <function Enum._generate_next_value_ at 0x0000020144041C10>, '__module__': 'config', '__doc__': 'An enumeration.', '_member_names_': ['XGBoost', 'DeepFM', 'RandomForest', 'Knn', 'Kmeans'], '_member_map_': {'XGBoost': <Models.XGBoost: 'xgboost'>, 'DeepFM': <Models.DeepFM: 'deepFM'>, 'RandomForest': <Models.RandomForest: 'random_forest'>, 'Knn': <Models.Knn: 'knn'>, 'Kmeans': <Models.Kmeans: 'k-means'>}, '_member_type_': <class 'object'>, '_value2member_map_': {'xgboost': <Models.XGBoost: 'xgboost'>, 'deepFM': <Models.DeepFM: 'deepFM'>, 'random_forest': <Models.RandomForest: 'random_forest'>, 'knn': <Models.Knn: 'knn'>, 'k-means': <Models.Kmeans: 'k-means'>}, 'XGBoost': <Models.XGBoost: 'xgboost'>, 'DeepFM': <Models.DeepFM: 'deepFM'>, 'RandomForest': <Models.RandomForest: 'random_forest'>, 'Knn': <Models.Knn: 'knn'>, 'Kmeans': <Models.Kmeans: 'k-means'>, '__new__': <function Enum.__new__ at 0x0000020144041B80>}\n"
     ]
    }
   ],
   "source": [
    "\n",
    "import config\n",
    "print(config.Models.__dict__)\n"
   ],
   "metadata": {
    "collapsed": false
   }
  }
 ],
 "metadata": {
  "kernelspec": {
   "display_name": "Python 3",
   "language": "python",
   "name": "python3"
  },
  "language_info": {
   "codemirror_mode": {
    "name": "ipython",
    "version": 2
   },
   "file_extension": ".py",
   "mimetype": "text/x-python",
   "name": "python",
   "nbconvert_exporter": "python",
   "pygments_lexer": "ipython2",
   "version": "2.7.6"
  }
 },
 "nbformat": 4,
 "nbformat_minor": 0
}
